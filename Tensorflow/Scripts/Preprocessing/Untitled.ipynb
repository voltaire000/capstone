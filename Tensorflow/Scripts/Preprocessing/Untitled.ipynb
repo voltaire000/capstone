{
 "cells": [
  {
   "cell_type": "code",
   "execution_count": 51,
   "metadata": {},
   "outputs": [],
   "source": [
    "import pandas as pd\n",
    "import tensorflow as tf\n",
    "\n",
    "# replace with your train path\n",
    "train_path = 'C:/Users/Jonathan/dsi/Capstone/Tensorflow/workspace/training_demo/Annotations/train_annotations.csv'\n",
    "# replace with your test path\n",
    "test_path =  'C:/Users/Jonathan/dsi/Capstone/Tensorflow/workspace/training_demo/Annotations/test_annotations.csv'"
   ]
  },
  {
   "cell_type": "code",
   "execution_count": 53,
   "metadata": {},
   "outputs": [
    {
     "data": {
      "text/html": [
       "<div>\n",
       "<style scoped>\n",
       "    .dataframe tbody tr th:only-of-type {\n",
       "        vertical-align: middle;\n",
       "    }\n",
       "\n",
       "    .dataframe tbody tr th {\n",
       "        vertical-align: top;\n",
       "    }\n",
       "\n",
       "    .dataframe thead th {\n",
       "        text-align: right;\n",
       "    }\n",
       "</style>\n",
       "<table border=\"1\" class=\"dataframe\">\n",
       "  <thead>\n",
       "    <tr style=\"text-align: right;\">\n",
       "      <th></th>\n",
       "      <th>filename</th>\n",
       "      <th>width</th>\n",
       "      <th>height</th>\n",
       "      <th>class</th>\n",
       "      <th>xmin</th>\n",
       "      <th>ymin</th>\n",
       "      <th>xmax</th>\n",
       "      <th>ymax</th>\n",
       "    </tr>\n",
       "  </thead>\n",
       "  <tbody>\n",
       "    <tr>\n",
       "      <th>0</th>\n",
       "      <td>image_13_jpg.rf.5f193f7720dc7d52271df4de366686...</td>\n",
       "      <td>416</td>\n",
       "      <td>416</td>\n",
       "      <td>A-Label</td>\n",
       "      <td>345</td>\n",
       "      <td>157</td>\n",
       "      <td>414</td>\n",
       "      <td>180</td>\n",
       "    </tr>\n",
       "    <tr>\n",
       "      <th>1</th>\n",
       "      <td>image_13_jpg.rf.5f193f7720dc7d52271df4de366686...</td>\n",
       "      <td>416</td>\n",
       "      <td>416</td>\n",
       "      <td>B-Label</td>\n",
       "      <td>277</td>\n",
       "      <td>157</td>\n",
       "      <td>349</td>\n",
       "      <td>181</td>\n",
       "    </tr>\n",
       "    <tr>\n",
       "      <th>2</th>\n",
       "      <td>image_13_jpg.rf.5f193f7720dc7d52271df4de366686...</td>\n",
       "      <td>416</td>\n",
       "      <td>416</td>\n",
       "      <td>C-Label</td>\n",
       "      <td>345</td>\n",
       "      <td>178</td>\n",
       "      <td>414</td>\n",
       "      <td>204</td>\n",
       "    </tr>\n",
       "    <tr>\n",
       "      <th>3</th>\n",
       "      <td>image_13_jpg.rf.5f193f7720dc7d52271df4de366686...</td>\n",
       "      <td>416</td>\n",
       "      <td>416</td>\n",
       "      <td>D-Label</td>\n",
       "      <td>276</td>\n",
       "      <td>178</td>\n",
       "      <td>348</td>\n",
       "      <td>206</td>\n",
       "    </tr>\n",
       "    <tr>\n",
       "      <th>4</th>\n",
       "      <td>image_13_jpg.rf.5f193f7720dc7d52271df4de366686...</td>\n",
       "      <td>416</td>\n",
       "      <td>416</td>\n",
       "      <td>Ref-Label</td>\n",
       "      <td>59</td>\n",
       "      <td>181</td>\n",
       "      <td>260</td>\n",
       "      <td>219</td>\n",
       "    </tr>\n",
       "  </tbody>\n",
       "</table>\n",
       "</div>"
      ],
      "text/plain": [
       "                                            filename  width  height  \\\n",
       "0  image_13_jpg.rf.5f193f7720dc7d52271df4de366686...    416     416   \n",
       "1  image_13_jpg.rf.5f193f7720dc7d52271df4de366686...    416     416   \n",
       "2  image_13_jpg.rf.5f193f7720dc7d52271df4de366686...    416     416   \n",
       "3  image_13_jpg.rf.5f193f7720dc7d52271df4de366686...    416     416   \n",
       "4  image_13_jpg.rf.5f193f7720dc7d52271df4de366686...    416     416   \n",
       "\n",
       "       class  xmin  ymin  xmax  ymax  \n",
       "0    A-Label   345   157   414   180  \n",
       "1    B-Label   277   157   349   181  \n",
       "2    C-Label   345   178   414   204  \n",
       "3    D-Label   276   178   348   206  \n",
       "4  Ref-Label    59   181   260   219  "
      ]
     },
     "execution_count": 53,
     "metadata": {},
     "output_type": "execute_result"
    }
   ],
   "source": [
    "csv = pd.read_csv(train_path)\n",
    "csv.head()"
   ]
  },
  {
   "cell_type": "code",
   "execution_count": 58,
   "metadata": {},
   "outputs": [
    {
     "name": "stdout",
     "output_type": "stream",
     "text": [
      "filenam e\n",
      "widt h\n",
      "heigh t\n",
      "clas s\n",
      "xmi n\n",
      "ymi n\n",
      "xma x\n",
      "yma x\n"
     ]
    }
   ],
   "source": [
    "for row in csv:\n",
    "     features, label = row[:-1], row[-1]\n",
    "     print(features, label)"
   ]
  },
  {
   "cell_type": "code",
   "execution_count": null,
   "metadata": {},
   "outputs": [],
   "source": [
    "def create_tf_example(features, label):\n",
    "\n",
    "    tf_example = tf.train.Example(features=tf.train.Features(feature={\n",
    "        'filename': tf.train.Feature(bytes_list=tf.train.BytesList(value=[features[1]])),\n",
    "        'Height':tf.train.Feature(int64_list=tf.train.Int64List(value=[features[2]])),\n",
    "        'Width':tf.train.Feature(int64_list=tf.train.Int64List(value=[features[3]])),\n",
    "        'Mean':tf.train.Feature(float_list=tf.train.FloatList(value=[features[4]])),\n",
    "        'Std':tf.train.Feature(float_list=tf.train.FloatList(value=[features[5]])),\n",
    "        'Variance':tf.train.Feature(float_list=tf.train.FloatList(value=[features[6]])),\n",
    "        'Non-homogeneity':tf.train.Feature(float_list=tf.train.FloatList(value=[features[7]])),\n",
    "        'PixelCount':tf.train.Feature(int64_list=tf.train.Int64List(value=[features[8]])),\n",
    "        'contourCount':tf.train.Feature(int64_list=tf.train.Int64List(value=[features[9]])),\n",
    "        'Class':tf.train.Feature(bytes_list=tf.train.BytesList(value=[label.encode('utf-8')])),\n",
    "    }))\n",
    "    return tf_example"
   ]
  },
  {
   "cell_type": "code",
   "execution_count": 42,
   "metadata": {},
   "outputs": [],
   "source": [
    "with tf.io.TFRecordWriter(\"dataset.tfrecords\") as writer:\n",
    "  for row in csv:\n",
    "     features, label = row[:-1], row[-1]\n",
    "     print(features, label)\n",
    "     example = create_tf_example(features, label)\n",
    "     writer.write(example.SerializeToString())\n",
    "writer.close()"
   ]
  },
  {
   "cell_type": "code",
   "execution_count": null,
   "metadata": {},
   "outputs": [],
   "source": []
  },
  {
   "cell_type": "code",
   "execution_count": null,
   "metadata": {},
   "outputs": [],
   "source": []
  }
 ],
 "metadata": {
  "kernelspec": {
   "display_name": "Python 3",
   "language": "python",
   "name": "python3"
  },
  "language_info": {
   "codemirror_mode": {
    "name": "ipython",
    "version": 3
   },
   "file_extension": ".py",
   "mimetype": "text/x-python",
   "name": "python",
   "nbconvert_exporter": "python",
   "pygments_lexer": "ipython3",
   "version": "3.7.9"
  }
 },
 "nbformat": 4,
 "nbformat_minor": 4
}
