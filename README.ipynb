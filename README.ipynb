{
 "cells": [
  {
   "cell_type": "markdown",
   "metadata": {},
   "source": [
    "# README\n",
    "\n",
    "## Label Detector and Classifier capstone for General Assembly DSI Course\n",
    "\n",
    "### Files - \n",
    "\n",
    "#### csv - Holds one csv currently but will be updated later to manage all of the csv's in the project\n",
    "\n",
    "#### scripts - Holds all of the scripts necessary to run on the model after the classification is functional\n",
    "            barcodereader - takes video data currently and returns a barcode result to the barcode_result.txt file\n",
    "            numeric_textparser - takes image data and returns the text within the image\n",
    "            \n",
    "#### Tensorflow - Holds all of the data related to training the label classification model for the axium model\n",
    "            Scripts/preprocessing - can generate_tfrecord files from a csv file or an xml file\n",
    "            \n",
    "            workspace\n",
    "                    - Colab_model_generation - Hosts the current version of training the model file\n",
    "                    - training_demo \n",
    "                                    Annotations, Holds the label map and the annotations for the test and train data\n",
    "                                    Images, Holds the images required for training the google_colab model\n",
    "                                            - contains the train and test image folders\n",
    "                                            \n",
    "                                    pretrained_models - hosts the completed colab_model and the model to train the colab \n",
    "                                    model and config file"
   ]
  },
  {
   "cell_type": "code",
   "execution_count": null,
   "metadata": {},
   "outputs": [],
   "source": []
  }
 ],
 "metadata": {
  "kernelspec": {
   "display_name": "Python 3",
   "language": "python",
   "name": "python3"
  },
  "language_info": {
   "codemirror_mode": {
    "name": "ipython",
    "version": 3
   },
   "file_extension": ".py",
   "mimetype": "text/x-python",
   "name": "python",
   "nbconvert_exporter": "python",
   "pygments_lexer": "ipython3",
   "version": "3.7.9"
  }
 },
 "nbformat": 4,
 "nbformat_minor": 4
}
